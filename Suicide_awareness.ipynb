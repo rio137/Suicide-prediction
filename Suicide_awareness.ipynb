{
  "nbformat": 4,
  "nbformat_minor": 0,
  "metadata": {
    "colab": {
      "name": "Suicide_awareness.ipynb",
      "provenance": [],
      "toc_visible": true,
      "authorship_tag": "ABX9TyP/bj1570+Es4XNNmAwDXEy",
      "include_colab_link": true
    },
    "kernelspec": {
      "name": "python3",
      "display_name": "Python 3"
    },
    "language_info": {
      "name": "python"
    }
  },
  "cells": [
    {
      "cell_type": "markdown",
      "metadata": {
        "id": "view-in-github",
        "colab_type": "text"
      },
      "source": [
        "<a href=\"https://colab.research.google.com/github/rio137/Suicide-prediction/blob/main/Suicide_awareness.ipynb\" target=\"_parent\"><img src=\"https://colab.research.google.com/assets/colab-badge.svg\" alt=\"Open In Colab\"/></a>"
      ]
    },
    {
      "cell_type": "code",
      "metadata": {
        "id": "42TD-YaPvg46"
      },
      "source": [
        "import sklearn\n",
        "import pandas as pd\n",
        "import numpy as np"
      ],
      "execution_count": null,
      "outputs": []
    },
    {
      "cell_type": "code",
      "metadata": {
        "id": "7153cGZ94bwk"
      },
      "source": [
        "data = pd.read_csv(\"/content/twitter-suicidal_data.csv\")"
      ],
      "execution_count": null,
      "outputs": []
    },
    {
      "cell_type": "code",
      "metadata": {
        "colab": {
          "base_uri": "https://localhost:8080/",
          "height": 363
        },
        "id": "zTgbyd__5E3X",
        "outputId": "3fa5cc9c-7353-4b9e-9212-e1159e57ac82"
      },
      "source": [
        "data.head(10)"
      ],
      "execution_count": null,
      "outputs": [
        {
          "output_type": "execute_result",
          "data": {
            "text/html": [
              "<div>\n",
              "<style scoped>\n",
              "    .dataframe tbody tr th:only-of-type {\n",
              "        vertical-align: middle;\n",
              "    }\n",
              "\n",
              "    .dataframe tbody tr th {\n",
              "        vertical-align: top;\n",
              "    }\n",
              "\n",
              "    .dataframe thead th {\n",
              "        text-align: right;\n",
              "    }\n",
              "</style>\n",
              "<table border=\"1\" class=\"dataframe\">\n",
              "  <thead>\n",
              "    <tr style=\"text-align: right;\">\n",
              "      <th></th>\n",
              "      <th>tweet</th>\n",
              "      <th>intention</th>\n",
              "    </tr>\n",
              "  </thead>\n",
              "  <tbody>\n",
              "    <tr>\n",
              "      <th>0</th>\n",
              "      <td>my life is meaningless i just want to end my l...</td>\n",
              "      <td>1</td>\n",
              "    </tr>\n",
              "    <tr>\n",
              "      <th>1</th>\n",
              "      <td>muttering i wanna die to myself daily for a fe...</td>\n",
              "      <td>1</td>\n",
              "    </tr>\n",
              "    <tr>\n",
              "      <th>2</th>\n",
              "      <td>work slave i really feel like my only purpose ...</td>\n",
              "      <td>1</td>\n",
              "    </tr>\n",
              "    <tr>\n",
              "      <th>3</th>\n",
              "      <td>i did something on the 2 of october i overdose...</td>\n",
              "      <td>1</td>\n",
              "    </tr>\n",
              "    <tr>\n",
              "      <th>4</th>\n",
              "      <td>i feel like no one cares i just want to die ma...</td>\n",
              "      <td>1</td>\n",
              "    </tr>\n",
              "    <tr>\n",
              "      <th>5</th>\n",
              "      <td>i am great and wonderful i am worth it except ...</td>\n",
              "      <td>1</td>\n",
              "    </tr>\n",
              "    <tr>\n",
              "      <th>6</th>\n",
              "      <td>i ll be dead just you wait and see my last wor...</td>\n",
              "      <td>1</td>\n",
              "    </tr>\n",
              "    <tr>\n",
              "      <th>7</th>\n",
              "      <td>health anxiety prompting some bad thoughts in ...</td>\n",
              "      <td>1</td>\n",
              "    </tr>\n",
              "    <tr>\n",
              "      <th>8</th>\n",
              "      <td>everything is okay but nothing feels okay i ve...</td>\n",
              "      <td>1</td>\n",
              "    </tr>\n",
              "    <tr>\n",
              "      <th>9</th>\n",
              "      <td>ptsd and alcohol i had some extremely horrible...</td>\n",
              "      <td>1</td>\n",
              "    </tr>\n",
              "  </tbody>\n",
              "</table>\n",
              "</div>"
            ],
            "text/plain": [
              "                                               tweet  intention\n",
              "0  my life is meaningless i just want to end my l...          1\n",
              "1  muttering i wanna die to myself daily for a fe...          1\n",
              "2  work slave i really feel like my only purpose ...          1\n",
              "3  i did something on the 2 of october i overdose...          1\n",
              "4  i feel like no one cares i just want to die ma...          1\n",
              "5  i am great and wonderful i am worth it except ...          1\n",
              "6  i ll be dead just you wait and see my last wor...          1\n",
              "7  health anxiety prompting some bad thoughts in ...          1\n",
              "8  everything is okay but nothing feels okay i ve...          1\n",
              "9  ptsd and alcohol i had some extremely horrible...          1"
            ]
          },
          "metadata": {},
          "execution_count": 3
        }
      ]
    },
    {
      "cell_type": "code",
      "metadata": {
        "colab": {
          "base_uri": "https://localhost:8080/"
        },
        "id": "ETxHkQ2P6Y8J",
        "outputId": "0ed185ad-5118-4275-81a9-d4c317e25e3c"
      },
      "source": [
        "data.isnull().sum()"
      ],
      "execution_count": null,
      "outputs": [
        {
          "output_type": "execute_result",
          "data": {
            "text/plain": [
              "tweet        0\n",
              "intention    0\n",
              "dtype: int64"
            ]
          },
          "metadata": {},
          "execution_count": 4
        }
      ]
    },
    {
      "cell_type": "code",
      "metadata": {
        "colab": {
          "base_uri": "https://localhost:8080/"
        },
        "id": "Uew3HjqM6qQQ",
        "outputId": "2d2f13fb-b02e-464e-e36b-2da7fbb3f015"
      },
      "source": [
        "pip install tweet-preprocessor"
      ],
      "execution_count": null,
      "outputs": [
        {
          "output_type": "stream",
          "name": "stdout",
          "text": [
            "Collecting tweet-preprocessor\n",
            "  Downloading tweet_preprocessor-0.6.0-py3-none-any.whl (27 kB)\n",
            "Installing collected packages: tweet-preprocessor\n",
            "Successfully installed tweet-preprocessor-0.6.0\n"
          ]
        }
      ]
    },
    {
      "cell_type": "code",
      "metadata": {
        "id": "ZfKy--VQ7MYg"
      },
      "source": [
        "import re"
      ],
      "execution_count": null,
      "outputs": []
    },
    {
      "cell_type": "code",
      "metadata": {
        "id": "8ovh08hJ7cLD"
      },
      "source": [
        "nspace = re.compile(\"(\\.)|(\\;)|(\\:)|(\\!)|(\\')|(\\?)|(\\,)|(\\\")|(\\|)|(\\()|(\\))|(\\{)|(\\})|(\\[)|(\\])|(\\%)|(\\$)|(\\>)|(\\<)\")\n",
        "wspace = re.compile(\"(<br\\s/><br\\s/?>)|(-)|(/)|(:).\")"
      ],
      "execution_count": null,
      "outputs": []
    },
    {
      "cell_type": "code",
      "metadata": {
        "id": "3Ntaz9EiCTse"
      },
      "source": [
        "import preprocessor as p\n",
        "def clean_data(dt):\n",
        "  arr = []\n",
        "  for lines in dt:\n",
        "    temp = p.clean(lines)\n",
        "    temp = nspace.sub(\"\",temp.lower())\n",
        "    temp = wspace.sub(\"\", temp)\n",
        "    arr.append(temp)\n",
        "  return arr"
      ],
      "execution_count": null,
      "outputs": []
    },
    {
      "cell_type": "code",
      "metadata": {
        "id": "iMOnt8YZEHc9"
      },
      "source": [
        "clean_data = clean_data(data[\"tweet\"])\n",
        "#clean_data = pd.DataFrame(clean_data)"
      ],
      "execution_count": null,
      "outputs": []
    },
    {
      "cell_type": "code",
      "metadata": {
        "colab": {
          "base_uri": "https://localhost:8080/",
          "height": 363
        },
        "id": "7dp2_IOz8Z3B",
        "outputId": "445f5986-662e-4ebe-c2fa-dc81ded0c9ba"
      },
      "source": [
        "data[\"Clean Text\"] = clean_data\n",
        "data.head(10)"
      ],
      "execution_count": null,
      "outputs": [
        {
          "output_type": "execute_result",
          "data": {
            "text/html": [
              "<div>\n",
              "<style scoped>\n",
              "    .dataframe tbody tr th:only-of-type {\n",
              "        vertical-align: middle;\n",
              "    }\n",
              "\n",
              "    .dataframe tbody tr th {\n",
              "        vertical-align: top;\n",
              "    }\n",
              "\n",
              "    .dataframe thead th {\n",
              "        text-align: right;\n",
              "    }\n",
              "</style>\n",
              "<table border=\"1\" class=\"dataframe\">\n",
              "  <thead>\n",
              "    <tr style=\"text-align: right;\">\n",
              "      <th></th>\n",
              "      <th>tweet</th>\n",
              "      <th>intention</th>\n",
              "      <th>Clean Text</th>\n",
              "    </tr>\n",
              "  </thead>\n",
              "  <tbody>\n",
              "    <tr>\n",
              "      <th>0</th>\n",
              "      <td>my life is meaningless i just want to end my l...</td>\n",
              "      <td>1</td>\n",
              "      <td>my life is meaningless i just want to end my l...</td>\n",
              "    </tr>\n",
              "    <tr>\n",
              "      <th>1</th>\n",
              "      <td>muttering i wanna die to myself daily for a fe...</td>\n",
              "      <td>1</td>\n",
              "      <td>muttering i wanna die to myself daily for a fe...</td>\n",
              "    </tr>\n",
              "    <tr>\n",
              "      <th>2</th>\n",
              "      <td>work slave i really feel like my only purpose ...</td>\n",
              "      <td>1</td>\n",
              "      <td>work slave i really feel like my only purpose ...</td>\n",
              "    </tr>\n",
              "    <tr>\n",
              "      <th>3</th>\n",
              "      <td>i did something on the 2 of october i overdose...</td>\n",
              "      <td>1</td>\n",
              "      <td>i did something on the of october i overdosed ...</td>\n",
              "    </tr>\n",
              "    <tr>\n",
              "      <th>4</th>\n",
              "      <td>i feel like no one cares i just want to die ma...</td>\n",
              "      <td>1</td>\n",
              "      <td>i feel like no one cares i just want to die ma...</td>\n",
              "    </tr>\n",
              "    <tr>\n",
              "      <th>5</th>\n",
              "      <td>i am great and wonderful i am worth it except ...</td>\n",
              "      <td>1</td>\n",
              "      <td>i am great and wonderful i am worth it except ...</td>\n",
              "    </tr>\n",
              "    <tr>\n",
              "      <th>6</th>\n",
              "      <td>i ll be dead just you wait and see my last wor...</td>\n",
              "      <td>1</td>\n",
              "      <td>i ll be dead just you wait and see my last wor...</td>\n",
              "    </tr>\n",
              "    <tr>\n",
              "      <th>7</th>\n",
              "      <td>health anxiety prompting some bad thoughts in ...</td>\n",
              "      <td>1</td>\n",
              "      <td>health anxiety prompting some bad thoughts in ...</td>\n",
              "    </tr>\n",
              "    <tr>\n",
              "      <th>8</th>\n",
              "      <td>everything is okay but nothing feels okay i ve...</td>\n",
              "      <td>1</td>\n",
              "      <td>everything is okay but nothing feels okay i ve...</td>\n",
              "    </tr>\n",
              "    <tr>\n",
              "      <th>9</th>\n",
              "      <td>ptsd and alcohol i had some extremely horrible...</td>\n",
              "      <td>1</td>\n",
              "      <td>ptsd and alcohol i had some extremely horrible...</td>\n",
              "    </tr>\n",
              "  </tbody>\n",
              "</table>\n",
              "</div>"
            ],
            "text/plain": [
              "                                               tweet  ...                                         Clean Text\n",
              "0  my life is meaningless i just want to end my l...  ...  my life is meaningless i just want to end my l...\n",
              "1  muttering i wanna die to myself daily for a fe...  ...  muttering i wanna die to myself daily for a fe...\n",
              "2  work slave i really feel like my only purpose ...  ...  work slave i really feel like my only purpose ...\n",
              "3  i did something on the 2 of october i overdose...  ...  i did something on the of october i overdosed ...\n",
              "4  i feel like no one cares i just want to die ma...  ...  i feel like no one cares i just want to die ma...\n",
              "5  i am great and wonderful i am worth it except ...  ...  i am great and wonderful i am worth it except ...\n",
              "6  i ll be dead just you wait and see my last wor...  ...  i ll be dead just you wait and see my last wor...\n",
              "7  health anxiety prompting some bad thoughts in ...  ...  health anxiety prompting some bad thoughts in ...\n",
              "8  everything is okay but nothing feels okay i ve...  ...  everything is okay but nothing feels okay i ve...\n",
              "9  ptsd and alcohol i had some extremely horrible...  ...  ptsd and alcohol i had some extremely horrible...\n",
              "\n",
              "[10 rows x 3 columns]"
            ]
          },
          "metadata": {},
          "execution_count": 10
        }
      ]
    },
    {
      "cell_type": "code",
      "metadata": {
        "id": "qH3I3T344qNt"
      },
      "source": [
        "from sklearn.feature_extraction.text import TfidfVectorizer\n",
        "dt = TfidfVectorizer(max_features = 20000, ngram_range=(1,3), analyzer = 'char')\n",
        "x_data = dt.fit_transform(data['Clean Text'])\n",
        "y_data = data['intention']"
      ],
      "execution_count": null,
      "outputs": []
    },
    {
      "cell_type": "code",
      "metadata": {
        "id": "BIfOPgDb9oWw"
      },
      "source": [
        "from sklearn.model_selection import train_test_split\n",
        "x_train, x_test, y_train, y_test = train_test_split(x_data, y_data, test_size=0.2, random_state=0)"
      ],
      "execution_count": null,
      "outputs": []
    },
    {
      "cell_type": "code",
      "metadata": {
        "id": "7Aqc7LlD-GnJ"
      },
      "source": [
        "from sklearn import svm\n",
        "svm_data = svm.SVC(kernel = 'linear', probability = True)\n",
        "prblty = svm_data.fit(x_train, y_train).predict_proba(x_test)\n",
        "pred = svm_data.predict(x_test)"
      ],
      "execution_count": null,
      "outputs": []
    },
    {
      "cell_type": "code",
      "metadata": {
        "colab": {
          "base_uri": "https://localhost:8080/"
        },
        "id": "n4zUx4LiCWhV",
        "outputId": "f4d49546-598f-4a4d-81ac-a8a400c92391"
      },
      "source": [
        "from sklearn.metrics import classification_report\n",
        "print(classification_report(y_test,pred))"
      ],
      "execution_count": null,
      "outputs": [
        {
          "output_type": "stream",
          "name": "stdout",
          "text": [
            "              precision    recall  f1-score   support\n",
            "\n",
            "           0       0.93      0.94      0.94      1060\n",
            "           1       0.91      0.91      0.91       764\n",
            "\n",
            "    accuracy                           0.92      1824\n",
            "   macro avg       0.92      0.92      0.92      1824\n",
            "weighted avg       0.92      0.92      0.92      1824\n",
            "\n"
          ]
        }
      ]
    },
    {
      "cell_type": "code",
      "metadata": {
        "colab": {
          "base_uri": "https://localhost:8080/"
        },
        "id": "bftnsftsDJLg",
        "outputId": "59a5efe6-40ca-4e4b-a189-c59076656b64"
      },
      "source": [
        "x='I want to end my life'\n",
        "tmp = p.clean(x)\n",
        "tmp = nspace.sub(\"\",tmp.lower())\n",
        "tmp = wspace.sub(\"\", tmp)\n",
        "test_data = dt.transform([tmp])\n",
        "res = svm_data.predict(test_data)\n",
        "if res == 0:\n",
        "  { print(\"not risky\")}\n",
        "else:\n",
        "  {print(\"Risky\")}"
      ],
      "execution_count": null,
      "outputs": [
        {
          "output_type": "stream",
          "name": "stdout",
          "text": [
            "Risky\n"
          ]
        }
      ]
    }
  ]
}